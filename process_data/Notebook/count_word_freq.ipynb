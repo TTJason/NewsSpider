{
 "cells": [
  {
   "cell_type": "code",
   "execution_count": 4,
   "metadata": {
    "collapsed": true
   },
   "outputs": [],
   "source": [
    "from pypinyin import pinyin, lazy_pinyin\n",
    "import pypinyin\n",
    "import re\n",
    "from gensim.models import Word2Vec\n"
   ]
  },
  {
   "cell_type": "code",
   "execution_count": 5,
   "metadata": {
    "collapsed": true
   },
   "outputs": [],
   "source": [
    "file = open('rhyme_char/lyric.target','r')\n",
    "lines = file.readlines()\n",
    "word_dict = {}\n",
    "for line in lines:\n",
    "    line=line.replace('^','')\n",
    "    line=re.sub(r'[^\\u4e00-\\u9fa5^\\s]', '', line).strip()\n",
    "    line = line.split(' ')\n",
    "    for word in line:\n",
    "        if word.strip() == '':\n",
    "            continue\n",
    "        if word in word_dict:\n",
    "            word_dict[word]+=1\n",
    "        else:\n",
    "            word_dict[word]=0\n",
    "    \n"
   ]
  },
  {
   "cell_type": "code",
   "execution_count": 6,
   "metadata": {
    "collapsed": true
   },
   "outputs": [],
   "source": [
    "rhymes = [{'a','ua','ia'},\n",
    "          {'e','o','uo','io'},\n",
    "          {'ve','ie','ue'},\n",
    "          {'i','v','er'},\n",
    "          {'u'},\n",
    "          {'ai','uai'},\n",
    "          {'ei','ui','uei'},\n",
    "          {'ao','iao'},\n",
    "          {'ou','iu','iou'},\n",
    "          {'an','ian','uan','van'},\n",
    "          {'en','in','un','uen','vn','n'},\n",
    "          {'ang','iang','uang'},\n",
    "          {'eng','ing','ong','iong','ueng'}]"
   ]
  },
  {
   "cell_type": "code",
   "execution_count": 7,
   "metadata": {
    "collapsed": true
   },
   "outputs": [],
   "source": [
    "word_dict = sorted(word_dict.items(),key=lambda item:item[1],reverse=True)"
   ]
  },
  {
   "cell_type": "code",
   "execution_count": 8,
   "metadata": {
    "collapsed": true
   },
   "outputs": [],
   "source": [
    "words = [word.replace('\\n','') for word,freq in word_dict if freq > 50]"
   ]
  },
  {
   "cell_type": "code",
   "execution_count": 9,
   "metadata": {
    "collapsed": true
   },
   "outputs": [],
   "source": [
    "rhyme_collection = [[] for _ in range(len(rhymes))]\n",
    "word_to_class = {}\n",
    "for w in words:\n",
    "    py = lazy_pinyin(w,style=pypinyin.FINALS)[-1]\n",
    "    if py.strip() == '':\n",
    "        continue\n",
    "    flag = False\n",
    "    for rhyme in rhymes:\n",
    "        if py in rhyme:\n",
    "            flag = True\n",
    "            index = rhymes.index(rhyme)\n",
    "            rhyme_collection[index].append(w)\n",
    "            word_to_class[w] = index\n",
    "            continue\n",
    "    if flag:\n",
    "        continue\n",
    "    else:\n",
    "        print(py)"
   ]
  },
  {
   "cell_type": "code",
   "execution_count": 10,
   "metadata": {
    "collapsed": true
   },
   "outputs": [],
   "source": [
    "count_w = sum([len(x) for x in rhyme_collection])"
   ]
  },
  {
   "cell_type": "code",
   "execution_count": 11,
   "metadata": {
    "collapsed": false
   },
   "outputs": [
    {
     "data": {
      "text/plain": [
       "23082"
      ]
     },
     "execution_count": 11,
     "metadata": {},
     "output_type": "execute_result"
    }
   ],
   "source": [
    "count_w"
   ]
  },
  {
   "cell_type": "code",
   "execution_count": 12,
   "metadata": {
    "collapsed": true
   },
   "outputs": [],
   "source": [
    "word2vec_model = Word2Vec.load('rhyme_char/w2v.model')"
   ]
  },
  {
   "cell_type": "code",
   "execution_count": 13,
   "metadata": {
    "collapsed": true
   },
   "outputs": [],
   "source": [
    "test_words = ['犹豫']\n"
   ]
  },
  {
   "cell_type": "code",
   "execution_count": 14,
   "metadata": {
    "collapsed": true
   },
   "outputs": [],
   "source": [
    "def show_similar_words(test_words):\n",
    "    similar_words = word2vec_model.wv.most_similar(test_words,topn=100)\n",
    "    for word,score in similar_words:\n",
    "        if word in word_to_class.keys() and test_words[0] in word_to_class.keys():\n",
    "            if word_to_class[test_words[0]] == word_to_class[word]:\n",
    "                print(word)"
   ]
  },
  {
   "cell_type": "code",
   "execution_count": 15,
   "metadata": {
    "collapsed": false
   },
   "outputs": [
    {
     "name": "stdout",
     "output_type": "stream",
     "text": [
      "迟疑\n",
      "怀疑\n",
      "放弃\n",
      "在意\n",
      "考虑\n",
      "猜疑\n",
      "逃避\n",
      "畏惧\n",
      "着急\n",
      "轻易\n",
      "压抑\n",
      "顾虑\n",
      "你\n",
      "刻意\n",
      "联系\n",
      "坚持\n",
      "恐惧\n",
      "尝试\n",
      "讶异\n"
     ]
    }
   ],
   "source": [
    "show_similar_words(test_words)"
   ]
  },
  {
   "cell_type": "code",
   "execution_count": 22,
   "metadata": {
    "collapsed": false
   },
   "outputs": [
    {
     "name": "stdout",
     "output_type": "stream",
     "text": [
      "弟子\n",
      "宜\n",
      "孝子\n",
      "妻\n",
      "关羽\n",
      "周瑜\n",
      "贤弟\n"
     ]
    }
   ],
   "source": [
    "show_similar_words(['帝'])"
   ]
  },
  {
   "cell_type": "code",
   "execution_count": 20,
   "metadata": {
    "collapsed": false
   },
   "outputs": [
    {
     "data": {
      "text/plain": [
       "0.37192106145663861"
      ]
     },
     "execution_count": 20,
     "metadata": {},
     "output_type": "execute_result"
    }
   ],
   "source": [
    "word2vec_model.wv.similarity('王朝','帝')    "
   ]
  },
  {
   "cell_type": "code",
   "execution_count": 23,
   "metadata": {
    "collapsed": false
   },
   "outputs": [
    {
     "data": {
      "text/plain": [
       "[('燃三界', 0.6303138136863708),\n",
       " ('默罕默丹', 0.6055798530578613),\n",
       " ('梨园戏', 0.5989034175872803),\n",
       " ('赤发', 0.5929633975028992),\n",
       " ('横扫舍', 0.5928581953048706),\n",
       " ('红尘戏', 0.5924395322799683),\n",
       " ('缥缈录', 0.5922357439994812),\n",
       " ('铁马金戈', 0.5910796523094177),\n",
       " ('纵意', 0.5910488367080688),\n",
       " ('清城', 0.5909175872802734)]"
      ]
     },
     "execution_count": 23,
     "metadata": {},
     "output_type": "execute_result"
    }
   ],
   "source": [
    "word2vec_model.wv.most_similar(['帝都'])"
   ]
  },
  {
   "cell_type": "code",
   "execution_count": null,
   "metadata": {
    "collapsed": true
   },
   "outputs": [],
   "source": []
  }
 ],
 "metadata": {
  "anaconda-cloud": {},
  "kernelspec": {
   "display_name": "Python [conda env:python3]",
   "language": "python",
   "name": "conda-env-python3-py"
  },
  "language_info": {
   "codemirror_mode": {
    "name": "ipython",
    "version": 3
   },
   "file_extension": ".py",
   "mimetype": "text/x-python",
   "name": "python",
   "nbconvert_exporter": "python",
   "pygments_lexer": "ipython3",
   "version": "3.6.1"
  }
 },
 "nbformat": 4,
 "nbformat_minor": 2
}
